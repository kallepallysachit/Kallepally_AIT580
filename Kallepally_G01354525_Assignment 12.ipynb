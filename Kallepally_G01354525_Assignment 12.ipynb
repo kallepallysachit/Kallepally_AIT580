{
 "cells": [
  {
   "cell_type": "code",
   "execution_count": 105,
   "id": "c0a40d8f",
   "metadata": {},
   "outputs": [],
   "source": [
    "#Assignment 12 - Web Scrapping using Python\n",
    "# Name: SRIVEN SACHIT KALLEPALLY\n",
    "# G Number : G01354525\n",
    "\n",
    "import requests\n",
    "import urllib3\n",
    "import csv\n",
    "import pandas as pd\n",
    "\n",
    "\n",
    "urllib3.disable_warnings()\n",
    "given = requests.get(\"https://repo.vse.gmu.edu/ait/AIT580/580books.html\", verify=False)\n",
    "\n",
    "from bs4 import BeautifulSoup\n",
    "u = BeautifulSoup(url.text, \"html.parser\")\n",
    "v = u.find_all(\"td\", attrs={\"valign\":\"top\"})\n",
    "\n",
    "table_books = u.table\n",
    "with open(\"Books.csv\", \"w\") as racks:\n",
    "   stacker = csv.writer(racks)\n",
    "   for tr in table_books.find_all(\"tr\"):\n",
    "       each_row = []\n",
    "       for td in tr.find_all(\"td\"):\n",
    "           what = td.get_text()\n",
    "           if td.a != None:\n",
    "               a_tag = td.a\n",
    "               what = what + \",\" + a_tag.attrs[\"href\"]\n",
    "           each_row.append(what)\n",
    "       stacker.writerow(each_row)\n",
    "   racks.close()  \n"
   ]
  },
  {
   "cell_type": "code",
   "execution_count": 106,
   "id": "250a71d1",
   "metadata": {},
   "outputs": [
    {
     "name": "stdout",
     "output_type": "stream",
     "text": [
      "Publisher\\n        \n",
      "O'Reilly Media         4\n",
      "Packt Publishing       2\n",
      "Elsevier / Syngress    1\n",
      "Maker Media, Inc       1\n",
      "No Starch Press        1\n",
      "Pragmatic Bookshelf    1\n",
      "dtype: int64\n"
     ]
    }
   ],
   "source": [
    "# 2.a Print the frequency count for publishers (that is, how many books for each publisher)\n",
    "\n",
    "import matplotlib.pyplot as plt\n",
    "\n",
    "given = pd.read_csv('Books.csv')\n",
    "count_publishers = given['Publisher\\n'].to_frame()\n",
    "print(count_publishers.value_counts())"
   ]
  },
  {
   "cell_type": "code",
   "execution_count": 107,
   "id": "7added29",
   "metadata": {},
   "outputs": [
    {
     "data": {
      "text/plain": [
       "<AxesSubplot:xlabel='Publisher\\n'>"
      ]
     },
     "execution_count": 107,
     "metadata": {},
     "output_type": "execute_result"
    },
    {
     "data": {
      "image/png": "[encoded data removed]",
      "text/plain": [
       "<Figure size 432x288 with 1 Axes>"
      ]
     },
     "metadata": {
      "needs_background": "light"
     },
     "output_type": "display_data"
    }
   ],
   "source": [
    "# 2b. Visualize the output of (a) using a chart of your own choice\n",
    "count_publishers.value_counts().plot(kind=\"bar\")"
   ]
  },
  {
   "cell_type": "code",
   "execution_count": 108,
   "id": "44d06993",
   "metadata": {},
   "outputs": [
    {
     "name": "stdout",
     "output_type": "stream",
     "text": [
      "PubDate\n",
      "2017       5\n",
      "2016       4\n",
      "2013       1\n",
      "dtype: int64\n"
     ]
    }
   ],
   "source": [
    "# 2.c Print the frequency count for year of publication\n",
    "\n",
    "dates = []\n",
    "for date in given['PubDate\\n'].dropna():\n",
    "    date = '20' + date[-2:]\n",
    "    dates.append(date)\n",
    "given = pd.Series(dates, name = 'PubDate')\n",
    "FrequencyYears = info.to_frame()\n",
    "print(FrequencyYears.value_counts())"
   ]
  },
  {
   "cell_type": "code",
   "execution_count": 102,
   "id": "23adfe0f",
   "metadata": {},
   "outputs": [
    {
     "data": {
      "text/plain": [
       "<AxesSubplot:xlabel='PubDate'>"
      ]
     },
     "execution_count": 102,
     "metadata": {},
     "output_type": "execute_result"
    },
    {
     "data": {
      "image/png": "[encoded data removed]",
      "text/plain": [
       "<Figure size 432x288 with 1 Axes>"
      ]
     },
     "metadata": {
      "needs_background": "light"
     },
     "output_type": "display_data"
    }
   ],
   "source": [
    "# 2.d Visualize the output of (b) using a chart of your own choice\n",
    "FrequencyYears.value_counts().plot(kind=\"bar\")"
   ]
  },
  {
   "cell_type": "code",
   "execution_count": null,
   "id": "2960c0cb",
   "metadata": {},
   "outputs": [],
   "source": []
  }
 ],
 "metadata": {
  "kernelspec": {
   "display_name": "Python 3 (ipykernel)",
   "language": "python",
   "name": "python3"
  },
  "language_info": {
   "codemirror_mode": {
    "name": "ipython",
    "version": 3
   },
   "file_extension": ".py",
   "mimetype": "text/x-python",
   "name": "python",
   "nbconvert_exporter": "python",
   "pygments_lexer": "ipython3",
   "version": "3.9.7"
  }
 },
 "nbformat": 4,
 "nbformat_minor": 5
}
